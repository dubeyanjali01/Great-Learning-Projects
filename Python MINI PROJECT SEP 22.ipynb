{
 "cells": [
  {
   "cell_type": "markdown",
   "id": "de317822",
   "metadata": {},
   "source": [
    "### TOPIC - LOAN DATASET"
   ]
  },
  {
   "cell_type": "markdown",
   "id": "6f8f7a79",
   "metadata": {},
   "source": [
    "###### Introduction - Loans dataset aims to identify variables which indicate if a person is likely to default, which can be used for identifying the risky loan applicants to avoid any financial loss to the company."
   ]
  },
  {
   "cell_type": "markdown",
   "id": "4a9f9548",
   "metadata": {},
   "source": [
    "###### Dataset Description - It contains the complete loan data for all loans issued through the time period 2007 to 2011."
   ]
  },
  {
   "cell_type": "code",
   "execution_count": 1,
   "id": "373f48ff",
   "metadata": {},
   "outputs": [],
   "source": [
    "# Import the NumPy library and alias it as np\n",
    "import numpy as np\n",
    "\n",
    "# Import the Pandas library and alias it as pd\n",
    "import pandas as pd\n",
    "\n",
    "# Import the Pyplot module from the Matplotlib library and alias it as plt\n",
    "import matplotlib.pyplot as plt\n",
    "\n",
    "# Import the Seaborn library and alias it as sns\n",
    "import seaborn as sns"
   ]
  },
  {
   "cell_type": "markdown",
   "id": "640ae4d0",
   "metadata": {},
   "source": [
    "#### 1. Import the dataset and understand it."
   ]
  },
  {
   "cell_type": "code",
   "execution_count": 2,
   "id": "1ef055c1",
   "metadata": {},
   "outputs": [
    {
     "data": {
      "text/html": [
       "<div>\n",
       "<style scoped>\n",
       "    .dataframe tbody tr th:only-of-type {\n",
       "        vertical-align: middle;\n",
       "    }\n",
       "\n",
       "    .dataframe tbody tr th {\n",
       "        vertical-align: top;\n",
       "    }\n",
       "\n",
       "    .dataframe thead th {\n",
       "        text-align: right;\n",
       "    }\n",
       "</style>\n",
       "<table border=\"1\" class=\"dataframe\">\n",
       "  <thead>\n",
       "    <tr style=\"text-align: right;\">\n",
       "      <th></th>\n",
       "      <th>id</th>\n",
       "      <th>member_id</th>\n",
       "      <th>loan_amnt</th>\n",
       "      <th>funded_amnt</th>\n",
       "      <th>funded_amnt_inv</th>\n",
       "      <th>term</th>\n",
       "      <th>int_rate</th>\n",
       "      <th>installment</th>\n",
       "      <th>grade</th>\n",
       "      <th>emp_length</th>\n",
       "      <th>...</th>\n",
       "      <th>purpose</th>\n",
       "      <th>dti</th>\n",
       "      <th>total_pymnt</th>\n",
       "      <th>total_pymnt_inv</th>\n",
       "      <th>total_rec_prncp</th>\n",
       "      <th>total_rec_int</th>\n",
       "      <th>last_pymnt_d</th>\n",
       "      <th>last_pymnt_amnt</th>\n",
       "      <th>Unnamed: 21</th>\n",
       "      <th>Unnamed: 22</th>\n",
       "    </tr>\n",
       "  </thead>\n",
       "  <tbody>\n",
       "    <tr>\n",
       "      <th>0</th>\n",
       "      <td>1077501</td>\n",
       "      <td>1296599</td>\n",
       "      <td>5000</td>\n",
       "      <td>5000</td>\n",
       "      <td>4975.0</td>\n",
       "      <td>36 months</td>\n",
       "      <td>10.65%</td>\n",
       "      <td>162.87</td>\n",
       "      <td>B</td>\n",
       "      <td>10+ years</td>\n",
       "      <td>...</td>\n",
       "      <td>credit_card</td>\n",
       "      <td>27.65</td>\n",
       "      <td>5863.155187</td>\n",
       "      <td>5833.84</td>\n",
       "      <td>5000.00</td>\n",
       "      <td>863.16</td>\n",
       "      <td>Jan-15</td>\n",
       "      <td>171.62</td>\n",
       "      <td>NaN</td>\n",
       "      <td>NaN</td>\n",
       "    </tr>\n",
       "    <tr>\n",
       "      <th>1</th>\n",
       "      <td>1077430</td>\n",
       "      <td>1314167</td>\n",
       "      <td>2500</td>\n",
       "      <td>2500</td>\n",
       "      <td>2500.0</td>\n",
       "      <td>60 months</td>\n",
       "      <td>15.27%</td>\n",
       "      <td>59.83</td>\n",
       "      <td>C</td>\n",
       "      <td>&lt; 1 year</td>\n",
       "      <td>...</td>\n",
       "      <td>car</td>\n",
       "      <td>1.00</td>\n",
       "      <td>1008.710000</td>\n",
       "      <td>1008.71</td>\n",
       "      <td>456.46</td>\n",
       "      <td>435.17</td>\n",
       "      <td>Apr-13</td>\n",
       "      <td>119.66</td>\n",
       "      <td>NaN</td>\n",
       "      <td>NaN</td>\n",
       "    </tr>\n",
       "    <tr>\n",
       "      <th>2</th>\n",
       "      <td>1077175</td>\n",
       "      <td>1313524</td>\n",
       "      <td>2400</td>\n",
       "      <td>2400</td>\n",
       "      <td>2400.0</td>\n",
       "      <td>36 months</td>\n",
       "      <td>15.96%</td>\n",
       "      <td>84.33</td>\n",
       "      <td>C</td>\n",
       "      <td>10+ years</td>\n",
       "      <td>...</td>\n",
       "      <td>small_business</td>\n",
       "      <td>8.72</td>\n",
       "      <td>3005.666844</td>\n",
       "      <td>3005.67</td>\n",
       "      <td>2400.00</td>\n",
       "      <td>605.67</td>\n",
       "      <td>Jun-14</td>\n",
       "      <td>649.91</td>\n",
       "      <td>NaN</td>\n",
       "      <td>NaN</td>\n",
       "    </tr>\n",
       "    <tr>\n",
       "      <th>3</th>\n",
       "      <td>1076863</td>\n",
       "      <td>1277178</td>\n",
       "      <td>10000</td>\n",
       "      <td>10000</td>\n",
       "      <td>10000.0</td>\n",
       "      <td>36 months</td>\n",
       "      <td>13.49%</td>\n",
       "      <td>339.31</td>\n",
       "      <td>C</td>\n",
       "      <td>10+ years</td>\n",
       "      <td>...</td>\n",
       "      <td>other</td>\n",
       "      <td>20.00</td>\n",
       "      <td>12231.890000</td>\n",
       "      <td>12231.89</td>\n",
       "      <td>10000.00</td>\n",
       "      <td>2214.92</td>\n",
       "      <td>Jan-15</td>\n",
       "      <td>357.48</td>\n",
       "      <td>NaN</td>\n",
       "      <td>NaN</td>\n",
       "    </tr>\n",
       "    <tr>\n",
       "      <th>4</th>\n",
       "      <td>1075358</td>\n",
       "      <td>1311748</td>\n",
       "      <td>3000</td>\n",
       "      <td>3000</td>\n",
       "      <td>3000.0</td>\n",
       "      <td>60 months</td>\n",
       "      <td>12.69%</td>\n",
       "      <td>67.79</td>\n",
       "      <td>B</td>\n",
       "      <td>1 year</td>\n",
       "      <td>...</td>\n",
       "      <td>other</td>\n",
       "      <td>17.94</td>\n",
       "      <td>3513.330000</td>\n",
       "      <td>3513.33</td>\n",
       "      <td>2475.94</td>\n",
       "      <td>1037.39</td>\n",
       "      <td>May-16</td>\n",
       "      <td>67.79</td>\n",
       "      <td>NaN</td>\n",
       "      <td>NaN</td>\n",
       "    </tr>\n",
       "  </tbody>\n",
       "</table>\n",
       "<p>5 rows × 23 columns</p>\n",
       "</div>"
      ],
      "text/plain": [
       "        id  member_id  loan_amnt  funded_amnt  funded_amnt_inv        term  \\\n",
       "0  1077501    1296599       5000         5000           4975.0   36 months   \n",
       "1  1077430    1314167       2500         2500           2500.0   60 months   \n",
       "2  1077175    1313524       2400         2400           2400.0   36 months   \n",
       "3  1076863    1277178      10000        10000          10000.0   36 months   \n",
       "4  1075358    1311748       3000         3000           3000.0   60 months   \n",
       "\n",
       "  int_rate  installment grade emp_length  ...         purpose    dti  \\\n",
       "0   10.65%       162.87     B  10+ years  ...     credit_card  27.65   \n",
       "1   15.27%        59.83     C   < 1 year  ...             car   1.00   \n",
       "2   15.96%        84.33     C  10+ years  ...  small_business   8.72   \n",
       "3   13.49%       339.31     C  10+ years  ...           other  20.00   \n",
       "4   12.69%        67.79     B     1 year  ...           other  17.94   \n",
       "\n",
       "    total_pymnt total_pymnt_inv  total_rec_prncp  total_rec_int  last_pymnt_d  \\\n",
       "0   5863.155187         5833.84          5000.00         863.16        Jan-15   \n",
       "1   1008.710000         1008.71           456.46         435.17        Apr-13   \n",
       "2   3005.666844         3005.67          2400.00         605.67        Jun-14   \n",
       "3  12231.890000        12231.89         10000.00        2214.92        Jan-15   \n",
       "4   3513.330000         3513.33          2475.94        1037.39        May-16   \n",
       "\n",
       "   last_pymnt_amnt  Unnamed: 21 Unnamed: 22  \n",
       "0           171.62          NaN         NaN  \n",
       "1           119.66          NaN         NaN  \n",
       "2           649.91          NaN         NaN  \n",
       "3           357.48          NaN         NaN  \n",
       "4            67.79          NaN         NaN  \n",
       "\n",
       "[5 rows x 23 columns]"
      ]
     },
     "execution_count": 2,
     "metadata": {},
     "output_type": "execute_result"
    }
   ],
   "source": [
    "# Read a CSV file using Pandas and store it in the df1 DataFrame\n",
    "# Note: the file path is specified using a raw string (r\"...\")\n",
    "df1 = pd.read_csv(r\"C:\\Users\\Lenovo\\Documents\\PYTHON MINI PROJECT SEP22\\Project 1-2\\Project 1\\loan.csv\")\n",
    "\n",
    "# Print the first few rows of the DataFrame to check that the file was read correctly\n",
    "df1.head()"
   ]
  },
  {
   "cell_type": "markdown",
   "id": "9f6e91d8",
   "metadata": {},
   "source": [
    "### Data Dictionary -"
   ]
  },
  {
   "cell_type": "markdown",
   "id": "2c34fa5f",
   "metadata": {},
   "source": [
    "1.annual_inc - The self-reported annual income provided by the borrower\n",
    "during registration.\n",
    "\n",
    "2.dti - A ratio calculated using the borrower’s total monthly debt payments on\n",
    "the total debt obligations, excluding mortgage and the requested LC loan,\n",
    "divided by the borrower’s self-reported monthly income.\n",
    "\n",
    "3.emp_length -Employment length in years. Possible values are between 0 and\n",
    "10 where 0 means less than one year and 10 means ten or more years.\n",
    "\n",
    "4.funded_amnt - The total amount committed to that loan at that point in\n",
    "time.\n",
    "\n",
    "5.funded_amnt_inv -The total amount committed by investors for that loan at\n",
    "that point in time. 233 \n",
    "\n",
    "6.grade - LC assigned loan grade\n",
    "\n",
    "7.id - A unique LC assigned ID for the loan listing.\n",
    "\n",
    "8.installment - The monthly payment owed by the borrower if the loan\n",
    "originates.\n",
    "\n",
    "9.int_rate - Interest Rate on the loan\n",
    "\n",
    "10.last_pymnt_amnt-Last total payment amount received\n",
    "\n",
    "11.last_pymnt_d -Last month payment was received\n",
    "\n",
    "12.loan_amnt -The listed amount of the loan applied for by the borrower. If at\n",
    "some point in time, the credit department reduces the loan amount, then it\n",
    "will be reflected in this value.\n",
    "\n",
    "13.loan_status - Current status of the loan\n",
    "\n",
    "14.member_id -A unique LC assigned Id for the borrower member.\n",
    "\n",
    "15.purpose - A category provided by the borrower for the loan request.\n",
    "\n",
    "16.term -The number of payments on the loan. Values are in months and can\n",
    "be either 36 or 60.\n",
    "\n",
    "17.total_acc -The total number of credit lines currently in the borrower's credit\n",
    "file\n",
    "\n",
    "18.total_pymnt -Payments received to date for total amount funded\n",
    "\n",
    "19.total_pymnt_inv -Payments received to date for portion of total amount\n",
    "funded by investors\n",
    "\n",
    "20.total_rec_int -Interest received to date"
   ]
  },
  {
   "cell_type": "markdown",
   "id": "29959a6e",
   "metadata": {},
   "source": [
    "#### 2. List down the number of rows and columns.\n"
   ]
  },
  {
   "cell_type": "code",
   "execution_count": 3,
   "id": "14de01c7",
   "metadata": {},
   "outputs": [
    {
     "name": "stdout",
     "output_type": "stream",
     "text": [
      "Number of Rows : 39717\n",
      "Number of columns : 23\n"
     ]
    }
   ],
   "source": [
    "# Print the number of rows in the DataFrame\n",
    "print('Number of Rows :', df1.shape[0])\n",
    "\n",
    "# Print the number of columns in the DataFrame\n",
    "print('Number of columns :', df1.shape[1])"
   ]
  },
  {
   "cell_type": "markdown",
   "id": "61fec36a",
   "metadata": {},
   "source": [
    "#### 3. ‘Int_rate’ column is character type. With the help of lambda function convert into float type."
   ]
  },
  {
   "cell_type": "code",
   "execution_count": 4,
   "id": "fc75923f",
   "metadata": {},
   "outputs": [],
   "source": [
    "# Remove the '%' character from the 'int_rate' column of the df1 DataFrame\n",
    "# Note: the str.rstrip() function removes whitespace (including '%' characters) from the right side of each string\n",
    "\n",
    "df1['int_rate'] = df1['int_rate'].str.rstrip('%')"
   ]
  },
  {
   "cell_type": "code",
   "execution_count": 5,
   "id": "794e8854",
   "metadata": {},
   "outputs": [],
   "source": [
    "# Convert the 'int_rate' column of the df1 DataFrame from strings to floats using lambda function.\n",
    "\n",
    "df1['int_rate'] = df1['int_rate'].map(lambda x: float(x))"
   ]
  },
  {
   "cell_type": "markdown",
   "id": "5650c82d",
   "metadata": {},
   "source": [
    "#### 4. Check the datatype of each column"
   ]
  },
  {
   "cell_type": "code",
   "execution_count": 6,
   "id": "4996daee",
   "metadata": {},
   "outputs": [
    {
     "data": {
      "text/plain": [
       "id                       int64\n",
       "member_id                int64\n",
       "loan_amnt                int64\n",
       "funded_amnt              int64\n",
       "funded_amnt_inv        float64\n",
       "term                    object\n",
       "int_rate               float64\n",
       "installment            float64\n",
       "grade                   object\n",
       "emp_length              object\n",
       "annual_inc             float64\n",
       "verification_status     object\n",
       "loan_status             object\n",
       "purpose                 object\n",
       "dti                    float64\n",
       "total_pymnt            float64\n",
       "total_pymnt_inv        float64\n",
       "total_rec_prncp        float64\n",
       "total_rec_int          float64\n",
       "last_pymnt_d            object\n",
       "last_pymnt_amnt        float64\n",
       "Unnamed: 21            float64\n",
       "Unnamed: 22            float64\n",
       "dtype: object"
      ]
     },
     "execution_count": 6,
     "metadata": {},
     "output_type": "execute_result"
    }
   ],
   "source": [
    "# Print the data types of each column in the df1 DataFrame\n",
    "\n",
    "df1.dtypes"
   ]
  },
  {
   "cell_type": "markdown",
   "id": "62e98494",
   "metadata": {},
   "source": [
    "#### 5. Cleaning the dataset- Remove the columns having complete NaN value in the entire dataset.\n"
   ]
  },
  {
   "cell_type": "code",
   "execution_count": 7,
   "id": "0d74058d",
   "metadata": {},
   "outputs": [
    {
     "data": {
      "text/plain": [
       "id                         0\n",
       "member_id                  0\n",
       "loan_amnt                  0\n",
       "funded_amnt                0\n",
       "funded_amnt_inv            0\n",
       "term                       0\n",
       "int_rate                   0\n",
       "installment                0\n",
       "grade                      0\n",
       "emp_length              1075\n",
       "annual_inc                 0\n",
       "verification_status        0\n",
       "loan_status                0\n",
       "purpose                    0\n",
       "dti                        0\n",
       "total_pymnt                0\n",
       "total_pymnt_inv            0\n",
       "total_rec_prncp            0\n",
       "total_rec_int              0\n",
       "last_pymnt_d              71\n",
       "last_pymnt_amnt            0\n",
       "Unnamed: 21            39717\n",
       "Unnamed: 22            39717\n",
       "dtype: int64"
      ]
     },
     "execution_count": 7,
     "metadata": {},
     "output_type": "execute_result"
    }
   ],
   "source": [
    "# Check the number of missing values in each column of the df1 DataFrame\n",
    "\n",
    "df1.isnull().sum()"
   ]
  },
  {
   "cell_type": "code",
   "execution_count": 8,
   "id": "16c53120",
   "metadata": {},
   "outputs": [],
   "source": [
    "#Unnamed: 21,Unnamed: 22 Have all the null values so,we can drop them."
   ]
  },
  {
   "cell_type": "code",
   "execution_count": 9,
   "id": "9738a26b",
   "metadata": {},
   "outputs": [],
   "source": [
    "# Drop the 'Unnamed: 21' and 'Unnamed: 22' columns from the df1 DataFrame\n",
    "# Note: the drop() method is used with the axis=1 argument to specify that the columns (not rows) should be dropped\n",
    "\n",
    "df1 = df1.drop(['Unnamed: 21','Unnamed: 22'], axis=1)"
   ]
  },
  {
   "cell_type": "markdown",
   "id": "ccf8e69b",
   "metadata": {},
   "source": [
    "#### 6. Write the code to find the value counts of the ‘loan_status’ category column and filter only the ‘fully paid’ and ‘charged off’ categories.\n"
   ]
  },
  {
   "cell_type": "code",
   "execution_count": 10,
   "id": "2cb2b896",
   "metadata": {},
   "outputs": [
    {
     "data": {
      "text/plain": [
       "Fully Paid     32950\n",
       "Charged Off     5627\n",
       "Current         1140\n",
       "Name: loan_status, dtype: int64"
      ]
     },
     "execution_count": 10,
     "metadata": {},
     "output_type": "execute_result"
    }
   ],
   "source": [
    "# Count the number of occurrences of each unique value in the 'loan_status' column of the df1 DataFrame\n",
    "\n",
    "df1['loan_status'].value_counts()"
   ]
  },
  {
   "cell_type": "code",
   "execution_count": 11,
   "id": "a94e907e",
   "metadata": {},
   "outputs": [
    {
     "data": {
      "text/plain": [
       "0         Fully Paid\n",
       "1        Charged Off\n",
       "2         Fully Paid\n",
       "3         Fully Paid\n",
       "5         Fully Paid\n",
       "            ...     \n",
       "39712     Fully Paid\n",
       "39713     Fully Paid\n",
       "39714     Fully Paid\n",
       "39715     Fully Paid\n",
       "39716     Fully Paid\n",
       "Name: loan_status, Length: 38577, dtype: object"
      ]
     },
     "execution_count": 11,
     "metadata": {},
     "output_type": "execute_result"
    }
   ],
   "source": [
    "# Filter the 'loan_status' column of the df1 DataFrame to include only rows with 'Fully Paid' or 'Charged Off' status\n",
    "\n",
    "df1['loan_status'][(df1['loan_status']=='Fully Paid') | (df1['loan_status']=='Charged Off')]"
   ]
  },
  {
   "cell_type": "markdown",
   "id": "7aaba2fd",
   "metadata": {},
   "source": [
    "##### 7. Filter the ‘Emp_Len’ column to extract the numerical value from the string. \n",
    "Hint - Emp_len : < 1year, 2 years , 3 years as 1 , 2, 3 so on."
   ]
  },
  {
   "cell_type": "code",
   "execution_count": 12,
   "id": "fbe11657",
   "metadata": {},
   "outputs": [
    {
     "data": {
      "text/html": [
       "<div>\n",
       "<style scoped>\n",
       "    .dataframe tbody tr th:only-of-type {\n",
       "        vertical-align: middle;\n",
       "    }\n",
       "\n",
       "    .dataframe tbody tr th {\n",
       "        vertical-align: top;\n",
       "    }\n",
       "\n",
       "    .dataframe thead th {\n",
       "        text-align: right;\n",
       "    }\n",
       "</style>\n",
       "<table border=\"1\" class=\"dataframe\">\n",
       "  <thead>\n",
       "    <tr style=\"text-align: right;\">\n",
       "      <th></th>\n",
       "      <th>0</th>\n",
       "    </tr>\n",
       "  </thead>\n",
       "  <tbody>\n",
       "    <tr>\n",
       "      <th>0</th>\n",
       "      <td>10</td>\n",
       "    </tr>\n",
       "    <tr>\n",
       "      <th>1</th>\n",
       "      <td>1</td>\n",
       "    </tr>\n",
       "    <tr>\n",
       "      <th>2</th>\n",
       "      <td>10</td>\n",
       "    </tr>\n",
       "    <tr>\n",
       "      <th>3</th>\n",
       "      <td>10</td>\n",
       "    </tr>\n",
       "    <tr>\n",
       "      <th>4</th>\n",
       "      <td>1</td>\n",
       "    </tr>\n",
       "    <tr>\n",
       "      <th>...</th>\n",
       "      <td>...</td>\n",
       "    </tr>\n",
       "    <tr>\n",
       "      <th>39712</th>\n",
       "      <td>4</td>\n",
       "    </tr>\n",
       "    <tr>\n",
       "      <th>39713</th>\n",
       "      <td>3</td>\n",
       "    </tr>\n",
       "    <tr>\n",
       "      <th>39714</th>\n",
       "      <td>1</td>\n",
       "    </tr>\n",
       "    <tr>\n",
       "      <th>39715</th>\n",
       "      <td>1</td>\n",
       "    </tr>\n",
       "    <tr>\n",
       "      <th>39716</th>\n",
       "      <td>1</td>\n",
       "    </tr>\n",
       "  </tbody>\n",
       "</table>\n",
       "<p>39717 rows × 1 columns</p>\n",
       "</div>"
      ],
      "text/plain": [
       "        0\n",
       "0      10\n",
       "1       1\n",
       "2      10\n",
       "3      10\n",
       "4       1\n",
       "...    ..\n",
       "39712   4\n",
       "39713   3\n",
       "39714   1\n",
       "39715   1\n",
       "39716   1\n",
       "\n",
       "[39717 rows x 1 columns]"
      ]
     },
     "execution_count": 12,
     "metadata": {},
     "output_type": "execute_result"
    }
   ],
   "source": [
    "# Extract the numerical part of the strings in the 'emp_length' column of the df1 DataFrame\n",
    "\n",
    "df1['emp_length'].str.extract('(\\d+)') "
   ]
  },
  {
   "cell_type": "markdown",
   "id": "068b3110",
   "metadata": {},
   "source": [
    "#### 8. Using the Lambda function, remove the month from the ‘term’ column such that ‘36 months’, ‘60 months’ appear as 36 and 60 respectively."
   ]
  },
  {
   "cell_type": "code",
   "execution_count": 13,
   "id": "02051eb0",
   "metadata": {},
   "outputs": [
    {
     "data": {
      "text/html": [
       "<div>\n",
       "<style scoped>\n",
       "    .dataframe tbody tr th:only-of-type {\n",
       "        vertical-align: middle;\n",
       "    }\n",
       "\n",
       "    .dataframe tbody tr th {\n",
       "        vertical-align: top;\n",
       "    }\n",
       "\n",
       "    .dataframe thead th {\n",
       "        text-align: right;\n",
       "    }\n",
       "</style>\n",
       "<table border=\"1\" class=\"dataframe\">\n",
       "  <thead>\n",
       "    <tr style=\"text-align: right;\">\n",
       "      <th></th>\n",
       "      <th>term</th>\n",
       "    </tr>\n",
       "  </thead>\n",
       "  <tbody>\n",
       "    <tr>\n",
       "      <th>0</th>\n",
       "      <td>36</td>\n",
       "    </tr>\n",
       "    <tr>\n",
       "      <th>1</th>\n",
       "      <td>60</td>\n",
       "    </tr>\n",
       "    <tr>\n",
       "      <th>2</th>\n",
       "      <td>36</td>\n",
       "    </tr>\n",
       "    <tr>\n",
       "      <th>3</th>\n",
       "      <td>36</td>\n",
       "    </tr>\n",
       "    <tr>\n",
       "      <th>4</th>\n",
       "      <td>60</td>\n",
       "    </tr>\n",
       "    <tr>\n",
       "      <th>...</th>\n",
       "      <td>...</td>\n",
       "    </tr>\n",
       "    <tr>\n",
       "      <th>39712</th>\n",
       "      <td>36</td>\n",
       "    </tr>\n",
       "    <tr>\n",
       "      <th>39713</th>\n",
       "      <td>36</td>\n",
       "    </tr>\n",
       "    <tr>\n",
       "      <th>39714</th>\n",
       "      <td>36</td>\n",
       "    </tr>\n",
       "    <tr>\n",
       "      <th>39715</th>\n",
       "      <td>36</td>\n",
       "    </tr>\n",
       "    <tr>\n",
       "      <th>39716</th>\n",
       "      <td>36</td>\n",
       "    </tr>\n",
       "  </tbody>\n",
       "</table>\n",
       "<p>39717 rows × 1 columns</p>\n",
       "</div>"
      ],
      "text/plain": [
       "       term\n",
       "0       36 \n",
       "1       60 \n",
       "2       36 \n",
       "3       36 \n",
       "4       60 \n",
       "...     ...\n",
       "39712   36 \n",
       "39713   36 \n",
       "39714   36 \n",
       "39715   36 \n",
       "39716   36 \n",
       "\n",
       "[39717 rows x 1 columns]"
      ]
     },
     "execution_count": 13,
     "metadata": {},
     "output_type": "execute_result"
    }
   ],
   "source": [
    "# Remove the string 'months' from each value in the 'term' column of the df1 DataFrame\n",
    "\n",
    "df1['term'] = df1['term'].map(lambda x:x.replace('months',''))\n",
    "df1[['term']]"
   ]
  },
  {
   "cell_type": "markdown",
   "id": "facb21c3",
   "metadata": {},
   "source": [
    "#### 9. Create a new column as risky_loan_applicant by comparing loan_amnt and funded_amnt with the following criteria - If loan_amnt is less than equals to funded_amnt set it as ‘0’ else set it as ‘1’.\n"
   ]
  },
  {
   "cell_type": "code",
   "execution_count": 14,
   "id": "f2bc0426",
   "metadata": {},
   "outputs": [
    {
     "name": "stdout",
     "output_type": "stream",
     "text": [
      "risky_loan_applicant\n",
      "0                       37868\n",
      "1                        1849\n",
      "dtype: int64\n"
     ]
    }
   ],
   "source": [
    "# Create a new column in the df1 DataFrame to indicate whether the loan applicant is considered \"risky\"\n",
    "# Note: the code uses the np.where() function to create a new column called 'risky_loan_applicant'. If the value in the \n",
    "# 'loan_amnt' column is less than or equal to the value in the 'funded_amnt' column, the value in the 'risky_loan_applicant' \n",
    "# column is set to 0 (i.e., not risky). If the value in the 'loan_amnt' column is greater than the value in the 'funded_amnt' \n",
    "# column, the value in the 'risky_loan_applicant' column is set to 1 (i.e., risky).\n",
    "\n",
    "df1['risky_loan_applicant'] = np.where(df1['loan_amnt']<=df1['funded_amnt'], 0, 1)\n",
    "print(df1[['risky_loan_applicant']].value_counts()) #Checking if 'risky_loan_applicant' is according to the need."
   ]
  },
  {
   "cell_type": "markdown",
   "id": "38c6bfd3",
   "metadata": {},
   "source": [
    "### 10. Using the bar plot visualize the loan_status column against categorical column grade, term, verification_status . Write the observation from each graph."
   ]
  },
  {
   "cell_type": "code",
   "execution_count": 15,
   "id": "aa3c7353",
   "metadata": {},
   "outputs": [
    {
     "data": {
      "image/png": "[encoded data removed]",
      "text/plain": [
       "<Figure size 1000x600 with 1 Axes>"
      ]
     },
     "metadata": {},
     "output_type": "display_data"
    }
   ],
   "source": [
    "# Use the pd.crosstab() function to create a contingency table of 'loan_status' vs 'grade' in the df1 DataFrame. Then plot the \n",
    "# table as a bar graph using the plot() function.\n",
    "\n",
    "pd.crosstab(df1['loan_status'], df1['grade']).plot(kind='bar', figsize=(10,6), rot=0)\n",
    "plt.title('Loan Status as per Grades') #Adding a title to bar chart\n",
    "plt.xlabel('Loan Status') #Adding a label to X-axis \n",
    "plt.show() #Show the bar chart"
   ]
  },
  {
   "cell_type": "code",
   "execution_count": 16,
   "id": "f9f69f3a",
   "metadata": {},
   "outputs": [
    {
     "data": {
      "image/png": "[encoded data removed]",
      "text/plain": [
       "<Figure size 1000x600 with 1 Axes>"
      ]
     },
     "metadata": {},
     "output_type": "display_data"
    }
   ],
   "source": [
    "# Use the pd.crosstab() function to create a contingency table of 'loan_status' vs 'term' in the df1 DataFrame. Then plot the \n",
    "# table as a bar graph using the plot() function.\n",
    "\n",
    "pd.crosstab(df1['loan_status'], df1['term']).plot(kind='bar', figsize=(10,6), rot=0)\n",
    "plt.title('Loan Status as per Term') #Adding a title to bar chart\n",
    "plt.xlabel('Loan Status') #Adding a label to X-axis\n",
    "plt.show() #Show the bar chart"
   ]
  },
  {
   "cell_type": "code",
   "execution_count": 17,
   "id": "b6ff2b2a",
   "metadata": {},
   "outputs": [
    {
     "data": {
      "image/png": "[encoded data removed]",
      "text/plain": [
       "<Figure size 1000x600 with 1 Axes>"
      ]
     },
     "metadata": {},
     "output_type": "display_data"
    }
   ],
   "source": [
    "# Use the pd.crosstab() function to create a contingency table of 'loan_status' vs 'verification_status' in the df1 DataFrame. \n",
    "# Then plot the table as a bar graph using the plot() function.\n",
    "\n",
    "pd.crosstab(df1['loan_status'], df1['verification_status']).plot(kind='bar', figsize=(10,6), rot=0)\n",
    "plt.title('Loan Status as per Verification Status') #Adding a title to bar chart\n",
    "plt.xlabel('Loan Status') #Adding a label to X-axis\n",
    "plt.show() #Show the bar chart"
   ]
  },
  {
   "cell_type": "markdown",
   "id": "9fbed96b",
   "metadata": {},
   "source": [
    "#### 11.Using a user defined function convert the ‘emp_len’ column into\n",
    "#### Categorical column as follows -\n",
    "##### If emp_len is less than equals to 1 then recode as ‘fresher’.\n",
    "##### If emp_len is greater than 1 and less than 3 then recode as ‘junior’.\n",
    "##### If emp_len is greater than 3 and less than 7 then recode as ‘senior’\n",
    "##### If emp_len is greater than 7 then recode as ‘expert’.\n"
   ]
  },
  {
   "cell_type": "code",
   "execution_count": 18,
   "id": "2667cac1",
   "metadata": {},
   "outputs": [],
   "source": [
    "# Use the str.extract() method to extract the digits from the 'emp_length' column in the df1 DataFrame.\n",
    "# The regular expression (\\d+) matches one or more digits in a row, and extracts these digits from each value in the \n",
    "# 'emp_length' column.\n",
    "\n",
    "df1['emp_length'] = df1['emp_length'].str.extract('(\\d+)')"
   ]
  },
  {
   "cell_type": "code",
   "execution_count": 19,
   "id": "c3a2951c",
   "metadata": {},
   "outputs": [],
   "source": [
    "# Define a function called 'replace' that takes a parameter called 'df'.\n",
    "\n",
    "def replace(df):\n",
    "    # Convert the parameter to a float.\n",
    "    if float(df)<=1:\n",
    "        # If the float of df is less than or equal to 1, assign the string 'fresher' to the 'df' variable.\n",
    "        df = 'fresher'\n",
    "    elif float(df)>1 and float(df)<3:\n",
    "        # If the float of df is between 1 and 3 (exclusive), assign the string 'junior' to the 'df' variable.\n",
    "        df = 'junior'\n",
    "    elif float(df)>3 and float(df)<7:\n",
    "        # If the float of df is between 3 and 7 (exclusive), assign the string 'senior' to the 'df' variable.\n",
    "        df = 'senior'\n",
    "    else:\n",
    "        # If none of the above conditions are met, assign the string 'expert' to the 'df' variable.\n",
    "        df = 'expert'\n",
    "    # Return the value of 'df'.\n",
    "    return df"
   ]
  },
  {
   "cell_type": "code",
   "execution_count": 20,
   "id": "ac6842a7",
   "metadata": {},
   "outputs": [],
   "source": [
    "df1['emp_length']=df1['emp_length'].apply(replace) #Applying replace function to 'emp_length' column"
   ]
  },
  {
   "cell_type": "code",
   "execution_count": 22,
   "id": "00c75f38",
   "metadata": {},
   "outputs": [
    {
     "data": {
      "text/plain": [
       "0         expert\n",
       "1        fresher\n",
       "2         expert\n",
       "3         expert\n",
       "4        fresher\n",
       "          ...   \n",
       "39712     senior\n",
       "39713     expert\n",
       "39714    fresher\n",
       "39715    fresher\n",
       "39716    fresher\n",
       "Name: emp_length, Length: 39717, dtype: object"
      ]
     },
     "execution_count": 22,
     "metadata": {},
     "output_type": "execute_result"
    }
   ],
   "source": [
    "df1['emp_length']"
   ]
  },
  {
   "cell_type": "markdown",
   "id": "4ac3b874",
   "metadata": {},
   "source": [
    "#### 12.Find the sum of ‘loan_amnt’ for each grade and display the distribution of ‘loan_amnt’ using a pie plot."
   ]
  },
  {
   "cell_type": "code",
   "execution_count": 21,
   "id": "7447471f",
   "metadata": {},
   "outputs": [
    {
     "data": {
      "text/plain": [
       "grade\n",
       "A     86982400\n",
       "B    133651350\n",
       "C     89115825\n",
       "D     65160400\n",
       "E     45037900\n",
       "F     19263100\n",
       "G      6391675\n",
       "Name: loan_amnt, dtype: int64"
      ]
     },
     "execution_count": 21,
     "metadata": {},
     "output_type": "execute_result"
    }
   ],
   "source": [
    "# This code groups the 'loan_amnt' column in the DataFrame 'df1' by the 'grade' column,and then calculates the sum of \n",
    "# 'loan_amnt' for each unique value in the 'grade' column.\n",
    "\n",
    "df1['loan_amnt'].groupby(by=df1['grade']).sum()  "
   ]
  },
  {
   "cell_type": "code",
   "execution_count": 25,
   "id": "9c2ac47d",
   "metadata": {},
   "outputs": [
    {
     "data": {
      "image/png": "[encoded data removed]",
      "text/plain": [
       "<Figure size 1200x800 with 1 Axes>"
      ]
     },
     "metadata": {},
     "output_type": "display_data"
    }
   ],
   "source": [
    "df1.groupby('grade')['loan_amnt'].sum().plot(kind='pie',figsize=(12,8),autopct='%.f%%',shadow=True,colors=colors)\n",
    "plt.title('Loan_amount_as_per_Grades')\n",
    "plt.show()"
   ]
  }
 ],
 "metadata": {
  "kernelspec": {
   "display_name": "Python 3 (ipykernel)",
   "language": "python",
   "name": "python3"
  },
  "language_info": {
   "codemirror_mode": {
    "name": "ipython",
    "version": 3
   },
   "file_extension": ".py",
   "mimetype": "text/x-python",
   "name": "python",
   "nbconvert_exporter": "python",
   "pygments_lexer": "ipython3",
   "version": "3.9.13"
  }
 },
 "nbformat": 4,
 "nbformat_minor": 5
}
